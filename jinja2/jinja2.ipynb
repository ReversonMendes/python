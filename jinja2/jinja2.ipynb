{
 "cells": [
  {
   "cell_type": "markdown",
   "metadata": {},
   "source": [
    "# Example #1"
   ]
  },
  {
   "cell_type": "code",
   "execution_count": null,
   "metadata": {
    "collapsed": false
   },
   "outputs": [],
   "source": [
    "from jinja2 import Template\n",
    "\n",
    "template = Template('Hello {{ name }}!')\n",
    "print template.render(name='John Doe')\n",
    "\n",
    "t = Template(\"My favorite numbers: {% for n in range(1,10) %}{{n}} \" \"{% endfor %}\")\n",
    "print t.render()"
   ]
  },
  {
   "cell_type": "code",
   "execution_count": null,
   "metadata": {
    "collapsed": false
   },
   "outputs": [],
   "source": [
    "from jinja2 import Template\n",
    "\n",
    "template = Template('''\n",
    "<title>{% block title %}{% endblock %}</title>\n",
    "<ul>\n",
    "{% for user in users -%}\n",
    "  <li><a href=\"{{ user.url }}\">{{ user.username }}</a></li>\n",
    "{% endfor -%}\n",
    "</ul>''')\n",
    "\n",
    "print template.render(title='title string', users=[{'username':'abc', 'url':'abc@gmail.com'},{'username':'123', 'url':'123@gmail.com'}])"
   ]
  },
  {
   "cell_type": "code",
   "execution_count": null,
   "metadata": {
    "collapsed": false
   },
   "outputs": [],
   "source": [
    "from jinja2 import Environment\n",
    "\n",
    "HTML = \"\"\"\n",
    "<html><head> <title>{{ title }}</title> </head>\n",
    "<body>Hello.</body>\n",
    "</html>\n",
    "\"\"\"\n",
    "\n",
    "def print_html():\n",
    "    print Environment().from_string(HTML).render(title='Hello Title')\n",
    "\n",
    "print_html()\n",
    "\n",
    "#if __name__ == '__main__':\n",
    "#    print_html()"
   ]
  },
  {
   "cell_type": "markdown",
   "metadata": {},
   "source": [
    "#Example #2"
   ]
  },
  {
   "cell_type": "code",
   "execution_count": null,
   "metadata": {
    "collapsed": false
   },
   "outputs": [],
   "source": [
    "from jinja2 import Environment, FileSystemLoader\n",
    "\n",
    "THIS_DIR = 'templates'\n",
    "\n",
    "def print_html():\n",
    "    j2_env = Environment(loader=FileSystemLoader(THIS_DIR), trim_blocks=True)\n",
    "    print j2_env.get_template('basic-1.html').render(\n",
    "        title='Hello Title'\n",
    "    )\n",
    "\n",
    "print_html()\n",
    "\n",
    "#import os\n",
    "#THIS_DIR = os.path.dirname(os.path.abspath(__file__))"
   ]
  },
  {
   "cell_type": "code",
   "execution_count": null,
   "metadata": {
    "collapsed": false
   },
   "outputs": [],
   "source": [
    "import jinja2\n",
    "\n",
    "templateLoader = jinja2.FileSystemLoader( searchpath=\"templates\" )\n",
    "templateEnv = jinja2.Environment( loader=templateLoader )\n",
    "\n",
    "TEMPLATE_FILE = \"basic-2.html\"\n",
    "template = templateEnv.get_template( TEMPLATE_FILE )\n",
    "\n",
    "FAVORITES = [ \"chocolates\", \"lunar eclipses\", \"rabbits\" ]\n",
    "\n",
    "templateVars = { \"title\" : \"Test Example\",\n",
    "                 \"description\" : \"A simple inquiry of function.\",\n",
    "                 \"favorites\" : FAVORITES }\n",
    "\n",
    "print template.render( templateVars )"
   ]
  },
  {
   "cell_type": "code",
   "execution_count": null,
   "metadata": {
    "collapsed": false
   },
   "outputs": [],
   "source": [
    "import os\n",
    "from jinja2 import Environment, FileSystemLoader\n",
    " \n",
    "PATH = '.'\n",
    "TEMPLATE_ENVIRONMENT = Environment(\n",
    "    autoescape=False,\n",
    "    loader=FileSystemLoader(os.path.join(PATH, 'templates')),\n",
    "    trim_blocks=False)\n",
    " \n",
    "def render_template(template_filename, context):\n",
    "    return TEMPLATE_ENVIRONMENT.get_template(template_filename).render(context)\n",
    " \n",
    "def create_index_html():\n",
    "    fname = \"results/output-basic-3.html\"\n",
    "    urls = ['http://example.com/1', 'http://example.com/2', 'http://example.com/3']\n",
    "    context = {\n",
    "        'urls': urls\n",
    "    }\n",
    "    with open(fname, 'w') as f:\n",
    "        html = render_template('basic-3.html', context)\n",
    "        f.write(html)\n",
    "\n",
    "create_index_html()\n",
    "\n",
    "'''\n",
    "PATH = os.path.dirname(os.path.abspath(__file__))\n",
    "def main():\n",
    "    create_index_html()\n",
    "    \n",
    "if __name__ == \"__main__\":\n",
    "    main()\n",
    "'''"
   ]
  },
  {
   "cell_type": "markdown",
   "metadata": {},
   "source": [
    "#Example #3"
   ]
  },
  {
   "cell_type": "code",
   "execution_count": 4,
   "metadata": {
    "collapsed": false
   },
   "outputs": [],
   "source": [
    "import os\n",
    "from jinja2 import Environment, FileSystemLoader\n",
    " \n",
    "PATH = '.'\n",
    "TEMPLATE_ENVIRONMENT = Environment(\n",
    "    autoescape=False,\n",
    "    loader=FileSystemLoader(os.path.join(PATH, 'templates')),\n",
    "    trim_blocks=False)\n",
    " \n",
    "def render_template(template_filename, context):\n",
    "    return TEMPLATE_ENVIRONMENT.get_template(template_filename).render(context)\n",
    "\n",
    "def create_index_html():\n",
    "    fname = \"results/output-t-3.html\"\n",
    "    \n",
    "    my_string=\"Hello!\" \n",
    "    my_list=[0,1,2,3,4,5]\n",
    "\n",
    "    context = {\n",
    "        'title' : 'title t-3',\n",
    "        'my_string': my_string,\n",
    "        'my_list': my_list\n",
    "    }\n",
    "    with open(fname, 'w') as f:\n",
    "        html = render_template('t-3.html', context)\n",
    "        f.write(html)\n",
    "\n",
    "create_index_html()"
   ]
  },
  {
   "cell_type": "markdown",
   "metadata": {},
   "source": [
    "# References\n",
    "- [Welcome to Jinja2 — Jinja2 Documentation](http://jinja.pocoo.org/docs/dev/)\n",
    "- [Introduction](http://jinja.pocoo.org/docs/dev/intro/)\n",
    "- [Tips and Tricks](http://jinja.pocoo.org/docs/dev/tricks/)\n",
    "- [Template Designer](http://jinja.pocoo.org/docs/dev/templates/)\n",
    "- [Primer on Jinja Templating - Real Python](https://realpython.com/blog/python/primer-on-jinja-templating/)\n",
    "\n",
    "# Other Readings\n",
    "- [Jinja2 Example | Python Adventures](https://pythonadventures.wordpress.com/2014/02/25/jinja2-example-for-generating-a-local-file-using-a-template/)\n",
    "- [Jinja2 Examples](https://gist.github.com/wrunk/1317933)\n",
    "- [Quickstart Guide to Using Jinja2](http://kagerato.net/articles/software/libraries/jinja-quickstart.html)"
   ]
  }
 ],
 "metadata": {
  "kernelspec": {
   "display_name": "Python 2",
   "language": "python",
   "name": "python2"
  },
  "language_info": {
   "codemirror_mode": {
    "name": "ipython",
    "version": 2
   },
   "file_extension": ".py",
   "mimetype": "text/x-python",
   "name": "python",
   "nbconvert_exporter": "python",
   "pygments_lexer": "ipython2",
   "version": "2.7.10"
  }
 },
 "nbformat": 4,
 "nbformat_minor": 0
}

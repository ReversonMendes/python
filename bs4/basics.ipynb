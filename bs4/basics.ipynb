{
 "cells": [
  {
   "cell_type": "markdown",
   "metadata": {},
   "source": [
    "# CodeLabs [Introduction to BeautifulSoup 4 (bs4)](https://eueung.github.io/python/bs4)\n",
    "\n",
    "# Example #1"
   ]
  },
  {
   "cell_type": "code",
   "execution_count": null,
   "metadata": {
    "collapsed": false
   },
   "outputs": [],
   "source": [
    "html_doc = \"\"\"<html><head><title>The Dormouse's story</title></head>\n",
    "<body>\n",
    "<p class=\"title\"><b>The Dormouse's story</b></p>\n",
    "\n",
    "<p class=\"story\">Once upon a time there were three little sisters; and their names were\n",
    "<a href=\"http://example.com/elsie\" class=\"sister\" id=\"link1\">Elsie</a>,\n",
    "<a href=\"http://example.com/lacie\" class=\"sister\" id=\"link2\">Lacie</a> and\n",
    "<a href=\"http://example.com/tillie\" class=\"sister\" id=\"link3\">Tillie</a>;\n",
    "and they lived at the bottom of a well.</p>\n",
    "\n",
    "<p class=\"story\">...</p>\"\"\"\n",
    "\n",
    "from bs4 import BeautifulSoup\n",
    "soup = BeautifulSoup(html_doc, 'html.parser')\n",
    "\n",
    "print(soup.prettify())"
   ]
  },
  {
   "cell_type": "markdown",
   "metadata": {},
   "source": [
    "# Example #2"
   ]
  },
  {
   "cell_type": "code",
   "execution_count": null,
   "metadata": {
    "collapsed": false
   },
   "outputs": [],
   "source": [
    "print soup.title             # <title>The Dormouse's story</title>\n",
    "print soup.title.name        # u'title'\n",
    "print soup.title.string      # u'The Dormouse's story'\n",
    "print soup.title.parent.name # u'head'\n",
    "\n",
    "print soup.p                 # <p class=\"title\"><b>The Dormouse's story</b></p>\n",
    "print soup.p['class']        # u'title'\n",
    "print soup.a                 # <a class=\"sister\" href=\"http://example.com/elsie\" id=\"link1\">Elsie</a>\n",
    "\n",
    "print soup.find(id=\"link3\")  # <a class=\"sister\" href=\"http://example.com/tillie\" id=\"link3\">Tillie</a>\n",
    "print soup.find_all('a')     # [<a class=\"sister\" href=\"http://example.com/elsie\" id=\"link1\">Elsie</a>,\n",
    "                             #  <a class=\"sister\" href=\"http://example.com/lacie\" id=\"link2\">Lacie</a>,\n",
    "                             #  <a class=\"sister\" href=\"http://example.com/tillie\" id=\"link3\">Tillie</a>]"
   ]
  },
  {
   "cell_type": "code",
   "execution_count": null,
   "metadata": {
    "collapsed": false
   },
   "outputs": [],
   "source": [
    "for link in soup.find_all('a'):\n",
    "    print(link.get('href'))"
   ]
  },
  {
   "cell_type": "code",
   "execution_count": null,
   "metadata": {
    "collapsed": false
   },
   "outputs": [],
   "source": [
    "print(soup.get_text())"
   ]
  },
  {
   "cell_type": "markdown",
   "metadata": {},
   "source": [
    "# Example #3"
   ]
  },
  {
   "cell_type": "code",
   "execution_count": null,
   "metadata": {
    "collapsed": false
   },
   "outputs": [],
   "source": [
    "head_tag = soup.head\n",
    "print head_tag           # <head><title>The Dormouse's story</title></head>\n",
    "print head_tag.contents  # [<title>The Dormouse's story</title>]\n",
    "print head_tag.string    # u'The Dormouse's story'\n",
    "\n",
    "for child in head_tag.descendants:  # <title>The Dormouse's story</title>\n",
    "    print(child)                    # The Dormouse's story\n",
    "# -------\n",
    "title_tag = head_tag.contents[0]\n",
    "print title_tag          # <title>The Dormouse's story</title>\n",
    "print title_tag.contents # [u'The Dormouse's story']\n",
    "print title_tag.string   # u'The Dormouse's story'\n",
    "\n",
    "text = title_tag.contents[0]\n",
    "# print text.contents    # AttributeError: 'NavigableString' object has no attribute 'contents'\n",
    "\n",
    "for child in title_tag.children:\n",
    "    print(child)  # The Dormouse's story"
   ]
  },
  {
   "cell_type": "markdown",
   "metadata": {},
   "source": [
    "# Example #4"
   ]
  },
  {
   "cell_type": "code",
   "execution_count": null,
   "metadata": {
    "collapsed": false
   },
   "outputs": [],
   "source": [
    "# print soup.contents\n",
    "print len(soup.contents)          # 1\n",
    "print soup.contents[0].name       # u'html'\n",
    "\n",
    "print len(list(soup.children))    # 1\n",
    "print len(list(soup.descendants)) # 25\n",
    "# --------\n",
    "print(soup.html.string) # None\n",
    "\n",
    "#for string in soup.strings:\n",
    "    # print(repr(string))\n",
    "    \n",
    "for string in soup.stripped_strings:\n",
    "    print(repr(string))    "
   ]
  },
  {
   "cell_type": "markdown",
   "metadata": {},
   "source": [
    "# Example #5"
   ]
  },
  {
   "cell_type": "code",
   "execution_count": null,
   "metadata": {
    "collapsed": false
   },
   "outputs": [],
   "source": [
    "soup = BeautifulSoup('<b class=\"boldest\">Extremely bold</b>')\n",
    "tag = soup.b\n",
    "print type(tag)\n",
    "print tag.name          # u'b'\n",
    "\n",
    "tag.name = \"blockquote\"\n",
    "print tag               # <blockquote class=\"boldest\">Extremely bold</blockquote>\n",
    "print tag['class']      # u'boldest'\n",
    "print tag.attrs         # {u'class': u'boldest'}\n",
    "\n",
    "tag['class'] = 'verybold'\n",
    "tag['id'] = 1\n",
    "print tag               # <blockquote class=\"verybold\" id=\"1\">Extremely bold</blockquote>\n",
    "# -------------\n",
    "del tag['class']\n",
    "del tag['id']\n",
    "print tag               # <blockquote>Extremely bold</blockquote>\n",
    "\n",
    "#print tag['class']     # KeyError: 'class'\n",
    "print(tag.get('class')) # None"
   ]
  },
  {
   "cell_type": "markdown",
   "metadata": {},
   "source": [
    "# Example #6"
   ]
  },
  {
   "cell_type": "code",
   "execution_count": null,
   "metadata": {
    "collapsed": false
   },
   "outputs": [],
   "source": [
    "class_soup = BeautifulSoup('<p class=\"body strikeout\"></p>')\n",
    "print class_soup.p['class']  # [\"body\", \"strikeout\"]\n",
    "\n",
    "class_soup = BeautifulSoup('<p class=\"body\"></p>')\n",
    "print class_soup.p['class']  # [\"body\"]\n",
    "\n",
    "id_soup = BeautifulSoup('<p id=\"my id\"></p>')\n",
    "print id_soup.p['id']      # 'my id'\n",
    "\n",
    "# ----------\n",
    "\n",
    "rel_soup = BeautifulSoup('<p>Back to the <a rel=\"index\">homepage</a></p>')\n",
    "print rel_soup.a['rel']    # ['index']\n",
    "\n",
    "rel_soup.a['rel'] = ['index', 'contents']\n",
    "print(rel_soup.p)          # <p>Back to the <a rel=\"index contents\">homepage</a></p>\n",
    "\n",
    "# ----------\n",
    "\n",
    "xml_soup = BeautifulSoup('<p class=\"body strikeout\"></p>', 'xml')\n",
    "print xml_soup.p['class']  # u'body strikeout'"
   ]
  },
  {
   "cell_type": "markdown",
   "metadata": {},
   "source": [
    "##References\n",
    "- [Beautiful Soup Documentation — Beautiful Soup 4.4.0 documentation](http://www.crummy.com/software/BeautifulSoup/bs4/doc/)\n",
    "\n",
    "##Other Readings\n",
    "- [Web Scraping with Beautiful Soup](http://web.stanford.edu/~zlotnick/TextAsData/Web_Scraping_with_Beautiful_Soup.html)\n",
    "- [Really short intro to scraping with Beautiful Soup and Requests](https://gist.github.com/bradmontgomery/1872970)"
   ]
  }
 ],
 "metadata": {
  "kernelspec": {
   "display_name": "Python 2",
   "language": "python",
   "name": "python2"
  },
  "language_info": {
   "codemirror_mode": {
    "name": "ipython",
    "version": 2
   },
   "file_extension": ".py",
   "mimetype": "text/x-python",
   "name": "python",
   "nbconvert_exporter": "python",
   "pygments_lexer": "ipython2",
   "version": "2.7.10"
  }
 },
 "nbformat": 4,
 "nbformat_minor": 0
}
